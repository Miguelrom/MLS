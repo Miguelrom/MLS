{
 "cells": [
  {
   "cell_type": "markdown",
   "metadata": {},
   "source": [
    "# Regresión lineal y descenso de gradiente"
   ]
  },
  {
   "cell_type": "markdown",
   "metadata": {},
   "source": [
    "En esta libreta vamos a explorar los aspectos más típicos de la regresión lineal, al mismo tiempo que desarrollamos los\n",
    "algortimos de aprendizaje de regresión lineal por descenso de gradiente por lotes, descenso de gradiente estocástico y \n",
    "la solución por ecuación normal. \n",
    "\n",
    "Vamos a utilizar bases de datos simples y públicas que ilustren su aplicación, ventajas y desventajas. Algunos de los \n",
    "problemas habrá que programarlos directamente en la libreta, pero otros habrá que modificar modulos de python \n",
    "(archivos con extensión .py) en un editor externo (el de tu preferencia).\n",
    "\n",
    "Empezamos por el principio, inicializando las variables del entorno."
   ]
  },
  {
   "cell_type": "code",
   "execution_count": 2,
   "metadata": {},
   "outputs": [],
   "source": [
    "%matplotlib inline\n",
    "import numpy as np\n",
    "import matplotlib.pyplot as plt"
   ]
  },
  {
   "cell_type": "markdown",
   "metadata": {},
   "source": [
    "# 1. Un ejemplo en una sola dimensión"
   ]
  },
  {
   "cell_type": "markdown",
   "metadata": {},
   "source": [
    "Una función muy importante para poder realizar aprendizaje máquina es la capacidad de poder manejar, cargar y guardar datos. En esta libreta vamos a empezar con lo más básico: leer datos desde un archivo texto (o un archivo.cvs). Más adelante revisaremos como recolectar datos de internet, de archivos tipo excel o de bases de datos.\n",
    "\n",
    "*Numpy* cuenta con varios métodos para leer y guardar datos. La más utilizada para cargar datos provenientes de un archivo de texto es `loadtxt`. Para obtener la documentación de la función, simplemente ejecuta la celda siguiente: "
   ]
  },
  {
   "cell_type": "code",
   "execution_count": 3,
   "metadata": {},
   "outputs": [],
   "source": [
    "np.loadtxt?"
   ]
  },
  {
   "cell_type": "markdown",
   "metadata": {},
   "source": [
    "Es importante ver que esta función directamente carga los datos existentes en el archivo en un `ndarray`. ¿Y si tenemos uno o varios `ndarrays` con las cosas que hemos desarrollado y los queremos guardar en disco (por ejemplo el vector $\\omega$ de parámetros)? \n",
    "\n",
    "Vamos a abrir y a visualizar unos datos que se encuentran en el archivo `carretas.txt` (abrelos con un editor de texto si quieres ver el archivo original). En este archivo se tiene las ganancias anuales (en dolares) de unos tacos de carreta (bueno, su equivalente gringo) respecto al tamaño de la ciudad donde se encuentra la carreta. Estos datos provienen de el curso de *Machine learning* de *coursera* de *Andrew Ng*.\n"
   ]
  },
  {
   "cell_type": "code",
   "execution_count": 8,
   "metadata": {},
   "outputs": [
    {
     "data": {
      "text/plain": [
       "Text(0, 0.5, 'Beneficios ($\\\\times 10^4$ dolares)')"
      ]
     },
     "execution_count": 8,
     "metadata": {},
     "output_type": "execute_result"
    },
    {
     "data": {
      "image/png": "[encoded data removed]",
      "text/plain": [
       "<Figure size 432x288 with 1 Axes>"
      ]
     },
     "metadata": {
      "needs_background": "light"
     },
     "output_type": "display_data"
    }
   ],
   "source": [
    "# Lee los datos en un nd array llamado datos\n",
    "datos = np.loadtxt('carretas.txt', comments='%', delimiter=',')\n",
    "\n",
    "# Separa los datos de entrada de los de salida.\n",
    "# si decimos que x = datos[:,0], pues se toma solo una columna de datos,\n",
    "# por lo que x sería un ndarray de forma (shape) (96,). Al decir x = datos[:, 0:1] \n",
    "# significa que vamos a tomar todas las columnas de 0 a una antes de 1, por lo\n",
    "# que x tiene una forma (96, 1). Para nuestros intereses, es mejor manejar x como una matriz\n",
    "# de una sola columna que como un vector de una dimensión (igual para y).\n",
    "x, y = datos[:,0:1], datos[:,1:] \n",
    "\n",
    "# T es el número de instancias y n el de atributos\n",
    "T, n = x.shape\n",
    "\n",
    "plt.plot(x, y, 'rx')\n",
    "plt.title(u'Ganancias anuales de una carreta de acuerdo al tamaño de una ciudad')\n",
    "plt.xlabel(r\"Poblaci$\\'o$n ($\\times 10^4$ habitantes)\")\n",
    "plt.ylabel(r'Beneficios ($\\times 10^4$ dolares)')"
   ]
  },
  {
   "cell_type": "markdown",
   "metadata": {},
   "source": [
    "Listo, ya temos los datos. La hipótesis que hacemos es que el valor de salida lo podemos estimar como\n",
    "\n",
    "$$\n",
    "\\hat{y}^{(i)} = h_\\omega(x^{(i)}) = \\omega_0 + \\omega_1 x^{(i)}\n",
    "$$\n",
    "\n",
    "por lo que, para poder hacer el aprendizaje en forma eficiente, es necesario ajustar la matriz de datos de entrada (en este caso con una sola columna) agregandole una columna de puros unos. "
   ]
  },
  {
   "cell_type": "code",
   "execution_count": 9,
   "metadata": {},
   "outputs": [],
   "source": [
    "x = np.c_[np.ones_like(x), x]"
   ]
  },
  {
   "cell_type": "code",
   "execution_count": 61,
   "metadata": {},
   "outputs": [
    {
     "data": {
      "text/plain": [
       "(97, 1)"
      ]
     },
     "execution_count": 61,
     "metadata": {},
     "output_type": "execute_result"
    }
   ],
   "source": [
    "y.shape\n",
    "#y[1,0]"
   ]
  },
  {
   "cell_type": "markdown",
   "metadata": {},
   "source": [
    "Muy bien, el objetivo del algoritmo de mínimos cuadrados es el de minimizar el costo definido como\n",
    "$$\n",
    "J(\\theta) = \\frac{1}{2T} \\sum_{i = 1}^T (y^{(i)} - h_\\omega(x^{(i)}))^2.\n",
    "$$\n",
    "\n",
    "Por lo tanto, para saber si estamos minimizando o no, debemos ser capaces de medir la función de costo. \n",
    "\n",
    "**Desarrolla la función de costo tal como se pide abajo**"
   ]
  },
  {
   "cell_type": "code",
   "execution_count": 62,
   "metadata": {},
   "outputs": [],
   "source": [
    "def costo(x, y, w):\n",
    "    \"\"\"\n",
    "    Calcula el costo de acuerdo al criterio de MSE (mean square error) asumiendo un conjunto de datos\n",
    "    x, con una salida y, y una hipótesis lineal parametrizada por omega\n",
    "    \n",
    "    @param x: Un ndarray de dimension (T, n + 1)\n",
    "    @param y: Un ndarray de dimensión (T, 1)\n",
    "    @param w: Un ndarray de dimensión (n + 1, 1)\n",
    "    \n",
    "    @return: Un número real con el costo\n",
    "    \"\"\"\n",
    "    T, n = x.shape[0], x.shape[1] - 1\n",
    "        \n",
    "    # Puedes hacerlo en forma de ciclos\n",
    "    J = 0\n",
    "    suma = 0\n",
    "    for ejemplo in range(T):\n",
    "        suma += ( y[ejemplo,0] - (w[0,0]+w[1,0]*x[ejemplo,1]) )**2\n",
    "        \n",
    "    J = suma / (2*T)\n",
    "        \n",
    "    #return J\n",
    "    \n",
    "    # Puedes hacerlo directamente en forma matricial\n",
    "    #y.shape=(97,1), x.shape=(97,2), w.shape=(2,1). x@w.shape=(97,1)\n",
    "    resta_cuadrada = (y - x@w)**2\n",
    "    #Se suman todos los elementos de la matriz resta_cuadrada:\n",
    "    suma = resta_cuadrada.sum()\n",
    "    costo = suma/(2*T)\n",
    "    return costo\n",
    "    \n"
   ]
  },
  {
   "cell_type": "markdown",
   "metadata": {},
   "source": [
    "y para probar si está bien el programa, si calculamos $J(\\omega)$ para $\\omega = (0, 0)^T$ debe de dar (para este conjunto de datos) **32.07**."
   ]
  },
  {
   "cell_type": "code",
   "execution_count": 63,
   "metadata": {},
   "outputs": [
    {
     "name": "stdout",
     "output_type": "stream",
     "text": [
      "32.072733877455676\n"
     ]
    }
   ],
   "source": [
    "#n=1. Se estableció en la celda donde de leen los datos. Es el número de datos de entrada.\n",
    "#w = [[0],[0]]\n",
    "w = np.zeros([n + 1, 1])\n",
    "print( costo(x, y, w) )"
   ]
  },
  {
   "cell_type": "markdown",
   "metadata": {},
   "source": [
    "Muy bien, ya podemos calcular el costo. Vamos entonces a utilizar la función que acabamos de hacer para ver como funciona esto del costo para diferentes valores de $\\omega$ y ver esa famosa superficie convexa:"
   ]
  },
  {
   "cell_type": "code",
   "execution_count": null,
   "metadata": {
    "collapsed": true
   },
   "outputs": [],
   "source": [
    "# Definimos una función que depende solo de theta0 y theta1\n",
    "def costo_w(w0, w1):\n",
    "    return costo(x, y, np.array([[w0], [w1]]))\n",
    "\n",
    "# Y ahora la convertimos en una función tipo numpy (aplica para cualquier entrada de ndarrays)\n",
    "costo_vect = np.frompyfunc(costo_w, 2, 1)\n",
    "\n",
    "#Ahora generamos la lista de valores para graficar\n",
    "w0 = np.linspace(-10, 10, 100);\n",
    "w1 = np.linspace(-1, 4, 100);\n",
    "\n",
    "# Y los convertimos en matrices utilizando la función meshgrid\n",
    "w0, w1 = np.meshgrid(w0, w1)\n",
    "\n",
    "# Y calculamos los costos para cada par de theta0 y theta 1 con nuestra nueva funcion de costos vectorizada\n",
    "J = costo_vect(w0, w1)\n",
    "\n",
    "# Y graficamos el contorno\n",
    "plt.contour(w0, w1, J, 80, linewidths=0.5, colors='k')\n",
    "plt.contourf(w0, w1, J, 80, cmap=plt.cm.rainbow, vmax=J.max(), vmin=J.min())\n",
    "plt.colorbar()\n",
    "plt.xlabel(r\"$\\omega_0$\")\n",
    "plt.ylabel(r\"$\\omega_1$\")\n",
    "plt.title(r\"Funcion de costo $J(\\omega)$\")\n",
    "        "
   ]
  },
  {
   "cell_type": "markdown",
   "metadata": {},
   "source": [
    "Ahora si, ya tenemos todo para hacer nuestra función para encontrar la $\\omega$ optima (que como se puede ver en la superficie debería de estar por donde $\\omega_0$ vale entre 0 y -5 y $\\omega_1$ entre 1 y 2). \n",
    "\n",
    "**Desarrolla la función con descenso de gradiente.**"
   ]
  },
  {
   "cell_type": "code",
   "execution_count": null,
   "metadata": {},
   "outputs": [],
   "source": [
    "def descenso_gradiente_lotes(x, y, w_ini, alpha, num_iter):\n",
    "    \"\"\"\n",
    "    Descenso de gradiente durante num_iter iteraciones para regresión lineal\n",
    "    \n",
    "    @param x: ndarray de dimension [T, n + 1] con los datos de entrada\n",
    "    @param y: ndarray de dimension [T, 1] con los datos de salida\n",
    "    @param w_ini: ndarray de dimension [n + 1, T] con los parametros iniciales\n",
    "    @param alpha: flotante con tamaño de paso o tasa de aprendizaje.\n",
    "    @param num_iter: numero de iteraciones (entero)\n",
    "    \n",
    "    @return: w, costo_iter donde w es un ndarray de la dimansión de w_ini con la w final, \n",
    "             mientras que costo_hist es un ndarray de dimensión [num_iter, 1] con el costo en cada iteración.\n",
    "    \n",
    "    \"\"\"\n",
    "    w = w_ini.copy()\n",
    "    costo_iter = np.zeros(num_iter)\n",
    "    \n",
    "    T, n = x.shape[0], x.shape[1] - 1\n",
    "    \n",
    "    for iter in xrange(num_iter):\n",
    "        \n",
    "        # Aqui igualmente se puede hacer por cada dato o en forma matricial\n",
    "        # por favor intenta hacerlo en forma matricial, qu es la forma \n",
    "        # eficiente de hacerlo\n",
    "        \n",
    "        # w += --aqui hay que poner código--\n",
    "        \n",
    "        costo_iter[iter] = costo(x, y, w)\n",
    "    return w, costo_iter\n",
    "     "
   ]
  },
  {
   "cell_type": "markdown",
   "metadata": {},
   "source": [
    "Listo, ya lo tenemos, ahora podemos utilizar la ecuación normal para solucionar el problema de forma analítica (revisen por favor sus apuntes).\n",
    "\n",
    "**Desarrolla la función para obtener el valor de theta a partir de la ecuación normal.**"
   ]
  },
  {
   "cell_type": "code",
   "execution_count": null,
   "metadata": {},
   "outputs": [],
   "source": [
    "def ecuacion_normal(x, y):\n",
    "    \"\"\"\n",
    "    Encuentra la solución de mínimos cuadrados a partir de la ecuación normal\n",
    "\n",
    "    @param x: ndarray de dimension [T, n + 1] con los datos de entrada\n",
    "    @param y: ndarray de dimension [T, 1] con los datos de salida\n",
    "    \n",
    "    @return w: ndarray de dimension [n + 1, T] con los parametros encontrados\n",
    "    \"\"\"\n",
    "    \n",
    "    # Esta función en realidad es una sola linea de código\n",
    "    # return --inserta aqui tu código--\n",
    "    "
   ]
  },
  {
   "cell_type": "markdown",
   "metadata": {},
   "source": [
    "Y para verificar las soluciones de las funciones anteriores, pues esperariamos que ante el mismo problema tuvieramos soluciones similares"
   ]
  },
  {
   "cell_type": "code",
   "execution_count": null,
   "metadata": {},
   "outputs": [],
   "source": [
    "w_ini = np.zeros((n + 1, 1))\n",
    "iteraciones = 1500\n",
    "alpha = 0.01\n",
    "\n",
    "w_dg, costos = descenso_gradiente_lotes(x, y, w_ini, alpha, iteraciones)\n",
    "theta_n = ecuacion_normal(x, y)\n",
    "\n",
    "print \"w con descenso de gradiente: \"\n",
    "print w_dg\n",
    "\n",
    "print u\"w con ecuación normal: \"\n",
    "print w_n\n",
    "\n",
    "plt.plot(costos, 'b')\n",
    "plt.title(u'Costo por iteración')\n",
    "plt.xlabel(u'iteración')\n",
    "plt.ylabel('costo')"
   ]
  },
  {
   "cell_type": "markdown",
   "metadata": {},
   "source": [
    "Si las soluciones no te parecen similares, pues vuelve a ejecutar la celda anterios pero con 10 veces más iteraciones. Ahora vamos a estimar los valores para una ciudad con 40000 habitantes (algo como Magdalena de Kino me imagino) y otra de 240000 (como Obregon me imagino).\n",
    "\n",
    "**Completa los pasos para realizar la estimación.**"
   ]
  },
  {
   "cell_type": "code",
   "execution_count": null,
   "metadata": {},
   "outputs": [],
   "source": [
    "x_estimar = np.array([4,24]).reshape(-1,1)\n",
    "\n",
    "#\n",
    "# Agrega el codigo necesario\n",
    "#\n",
    "\n",
    "print \"Los valores estimados con w_dg son: \"\n",
    "print y_estimado"
   ]
  },
  {
   "cell_type": "markdown",
   "metadata": {},
   "source": [
    "Si los valores que obtuviste son cercanos a 1 (10000 dolares) y 24.3 (243000 dolares) entonces estamos en los valores esperados. Ahora vamos a usar estos valores para graficar los datos reales y la estimación realizada:"
   ]
  },
  {
   "cell_type": "code",
   "execution_count": null,
   "metadata": {},
   "outputs": [],
   "source": [
    "plt.plot(x[:,1], y, 'xr')\n",
    "plt.plot(x_estimar[:,0], y_estimado, '-b')\n",
    "plt.title(u'Ganancias anuales de una carreta de acuerso al tamaño de una ciudad')\n",
    "plt.xlabel(r\"Poblaci$\\'o$n ($\\times 10^4$ habitantes)\")\n",
    "plt.ylabel(r'Beneficios ($\\times 10^4$ dolares)')"
   ]
  },
  {
   "cell_type": "markdown",
   "metadata": {},
   "source": [
    "**Felicidades** Acabas de terminar el primer algoritmo de aprendizaje (y el más usado en el mundo)."
   ]
  },
  {
   "cell_type": "markdown",
   "metadata": {},
   "source": [
    "# 2. Un ejemplo en multiples dimensiones"
   ]
  },
  {
   "cell_type": "markdown",
   "metadata": {},
   "source": [
    "Como los algortimos que se realizaron ya funcionan muy bien para muchas dimensiones, pues no se espera tener mucho problema para utilizarlos. Así que ahora vamos a cargar los datos y vamos a graficar la salida respecto a cada una de las dos variables"
   ]
  },
  {
   "cell_type": "code",
   "execution_count": null,
   "metadata": {},
   "outputs": [],
   "source": [
    "datos = np.loadtxt('casas_portland.txt', comments='%', delimiter=',')\n",
    "x, y = datos[:, :-1], datos[:,-1:] \n",
    "\n",
    "# T es el número de instancias y n el de atributos\n",
    "T, n = x.shape\n",
    "\n",
    "plt.plot(x[:,0], y, 'rx')\n",
    "plt.title(u'Costo de una casa en relación a su tamaño')\n",
    "plt.xlabel(u\"tamaño (pies cuadrados)\")\n",
    "plt.ylabel('costo ')\n",
    "\n",
    "plt.figure()\n",
    "plt.plot(x[:,1], y, 'rx')\n",
    "plt.title(u'Costo de una casa en relación al número de cuartos')\n",
    "plt.xlabel(\"cuartos\")\n",
    "\n"
   ]
  },
  {
   "cell_type": "markdown",
   "metadata": {},
   "source": [
    "Antes de realizar el aprendizaje podemos ver que mientras una de las variables se mide en miles de pies cuadrados, la otra variable tiene valores de 1 a 4. Esto es un problema para el algoritmo del descenso de gradiente, por lo que es necesario normalizar los datos (solo para este algoritmo) y que funcione de manera correcta. \n",
    "\n",
    "Para normalizar requerimos de dos pasos, por un lado, obtener los valores de medias y desviaciones estandares por atributo, y en segundo lugar, realizar la normalización. Los valores de medias y desviaciones estandares hay que guardarlos, ya que serán necesarios para poder normalizar los datos que se quiera estimar.\n",
    "\n",
    "**Escribe la función que devuelve los valores de medias t desviaciones estandares.**"
   ]
  },
  {
   "cell_type": "code",
   "execution_count": null,
   "metadata": {},
   "outputs": [],
   "source": [
    "def obtiene_medias_desviaciones(x):\n",
    "    \"\"\"\n",
    "    Obtiene las medias y las desviaciones estandar atributo a atributo.\n",
    "    \n",
    "    @param x: un ndarray de dimensión (T, n) donde T es el númro de elementos y n el número de atributos\n",
    "    \n",
    "    @return: medias, desviaciones donde ambos son ndarrays de dimensiones (n,) con las medias y las desviaciones \n",
    "             estandar respectivamente.\n",
    "    \n",
    "    \"\"\"\n",
    "    # Escribe aqui el código\n",
    "    #\n",
    "    #\n",
    "    #    \n",
    "    return medias, desviaciones\n",
    "\n",
    "def normaliza(x, medias, desviaciones):\n",
    "    \"\"\"\n",
    "    Normaliza los datos x\n",
    "\n",
    "    @param x: un ndarray de dimensión (T, n) donde T es el númro de elementos y n el número de atributos\n",
    "    @param medias: ndarray de dimensiones (n,) con las medias con las que se normalizará\n",
    "    @param desviaciones: ndarray de dimensiones (n,) con las desviaciones con las que se normalizará\n",
    "    \n",
    "    @return: x_norm un ndarray de las mismas dimensiones de x pero normalizado\n",
    "    \n",
    "    \"\"\"\n",
    "    return (x - medias) / desviaciones\n",
    "        \n",
    "\n",
    "# Y ahora vamos a hacer algo muy simple para probar, que pueden corroborar con el uso de una calculadora común.\n",
    "x_prueba = np.array([[1, 300],\n",
    "                    [3, 100],\n",
    "                    [2, 400],\n",
    "                    [4, 200]])\n",
    "m, d = obtiene_medias_desviaciones(x_prueba)\n",
    "\n",
    "print \"Los datos son: \"\n",
    "print x_prueba\n",
    "print \"Las medias son: \"\n",
    "print m\n",
    "print \"Las desviaciones son: \"\n",
    "print d\n",
    "print \"Los datos normalizados son: \"\n",
    "print normaliza(x_prueba, m, d)\n"
   ]
  },
  {
   "cell_type": "markdown",
   "metadata": {},
   "source": [
    "Listo, entonces ya podemos hacer descenso de gradiente, o casi. El problema es que no sabemos cual sería el mejor valor para $\\omega$. Escoge el valor de $\\omega$ realizando una gráfica de 50 iteraciones solamente para valores desde 0.001, 0.005, 0.01, 0.05, 0.1, 0.5, ... y decide cual de los valores es el que más te conviene.\n",
    "\n",
    "**Selecciona un valor, especifica aquí cual es, y justifica porque lo seleccionaste.**"
   ]
  },
  {
   "cell_type": "code",
   "execution_count": null,
   "metadata": {},
   "outputs": [],
   "source": [
    "medias, desviaciones = obtiene_medias_desviaciones(x)\n",
    "x_norm = np.c_[np.ones((T, 1)), normaliza(x, medias, desviaciones)]\n",
    "\n",
    "w_ini = np.zeros((n + 1, 1))\n",
    "num_iters = 50\n",
    "\n",
    "alpha = 0.0001  # Aqui es donde hay que hacer las pruebas\n",
    "\n",
    "w, costos_iters = descenso_gradiente_lotes(x_norm, y, w_ini, alpha, num_iters)\n",
    "print w\n",
    "\n",
    "plt.plot(costos_iters, '-b')\n",
    "plt.title(r\"La curva de aprendizaje para $\\alpha =$ \" + str(alpha))\n",
    "plt.xlabel('iteraciones')\n",
    "plt.ylabel('costo')"
   ]
  },
  {
   "cell_type": "markdown",
   "metadata": {},
   "source": [
    "**Utilizando todo el número de iteraciones necesarias, encuentra el valor de $\\omega$ utilizando el descenso de gradiente.**"
   ]
  },
  {
   "cell_type": "code",
   "execution_count": null,
   "metadata": {},
   "outputs": [],
   "source": [
    "# Aqui ya no pongo código, esto debe ser relativamente simple"
   ]
  },
  {
   "cell_type": "markdown",
   "metadata": {},
   "source": [
    "Y ahora para comparar, vamos a realizar el aprendizaje con la ecuacion normal."
   ]
  },
  {
   "cell_type": "code",
   "execution_count": null,
   "metadata": {},
   "outputs": [],
   "source": [
    "w_n = ecuacion_normal(np.c_[np.ones((T, 1)), x], y)\n",
    "print w_n"
   ]
  },
  {
   "cell_type": "markdown",
   "metadata": {},
   "source": [
    "**Obten el valor de una casa de 1650 pies cuadrados y 3 recamaras con las thetas obtenidas con ambos algoritmos y verifica que es el mismo resultado**"
   ]
  },
  {
   "cell_type": "code",
   "execution_count": null,
   "metadata": {},
   "outputs": [],
   "source": [
    "# Escribe aquí el código\n",
    "\n"
   ]
  }
 ],
 "metadata": {
  "kernelspec": {
   "display_name": "Python 3",
   "language": "python",
   "name": "python3"
  },
  "language_info": {
   "codemirror_mode": {
    "name": "ipython",
    "version": 3
   },
   "file_extension": ".py",
   "mimetype": "text/x-python",
   "name": "python",
   "nbconvert_exporter": "python",
   "pygments_lexer": "ipython3",
   "version": "3.7.3"
  }
 },
 "nbformat": 4,
 "nbformat_minor": 1
}
